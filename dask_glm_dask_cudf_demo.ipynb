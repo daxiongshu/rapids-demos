{
 "cells": [
  {
   "cell_type": "markdown",
   "metadata": {},
   "source": [
    "#### In this notebook, we show an end-to-end demo of rapids dask-cudf + dask-glm on mutliple GPUs. With the HIGGS dataset, the GPU solution achieves `14x` speedup over CPU using the `lbfgs` solver. To get a more comprehensive speedup measurement, we vary the size of random synthetic data and the GPU solution achieves up to `40x` speedup over CPU."
   ]
  },
  {
   "cell_type": "markdown",
   "metadata": {},
   "source": [
    "### Background\n",
    "\n",
    "**Multi-GPU support of dask-glm is enabled by recent efforts of allowing cupy dask arrays as inputs.** [dask/dask-glm#87](https://github.com/dask/dask-glm/pull/87) and [dask/dask-glm#89](https://github.com/dask/dask-glm/pull/89)\n",
    "\n",
    "dask-glm offers 3 estimators:\n",
    "- LinearRegression\n",
    "- LogisticRegression\n",
    "- PoissonRegression\n",
    "\n",
    "and 5 solvers:\n",
    "- admm,\n",
    "- gradient_descent,\n",
    "- newton,\n",
    "- lbfgs,\n",
    "- proximal_grad\n",
    "\n",
    "Currently, all 3 estimators and 5 algorithms work seamlessly with `dask-cudf` on multiple GPUs. \n",
    "\n",
    "In this demo, we use `LogisticRegression` to solve a binary classification problem on multiple GPUs.\n",
    "<br>Performance is compared on a DGX station with a 20-core CPU and 4xV100 GPUs. **The GPU dask achieves 8x speedup of the CPU counterpart.**"
   ]
  },
  {
   "cell_type": "markdown",
   "metadata": {},
   "source": [
    "### Install instructions:\n",
    "\n",
    "- conda create -n rapids-0.17 -c rapidsai-nightly -c nvidia -c conda-forge -c defaults rapids=0.17 python=3.7 cudatoolkit=10.2\n",
    "- conda activate rapids-0.17    \n",
    "- pip install git+https://github.com/dask/dask\n",
    "- git clone https://github.com/dask/dask-glm\n",
    "- cd dask-glm\n",
    "- pip install -e .\n",
    "\n",
    "We use cuda 10.2 in this demo. "
   ]
  },
  {
   "cell_type": "markdown",
   "metadata": {},
   "source": [
    "### Libraries and helper functions"
   ]
  },
  {
   "cell_type": "code",
   "execution_count": null,
   "metadata": {},
   "outputs": [],
   "source": [
    "import os\n",
    "GPU_id = '0,1,2,3,4,5,6,7'\n",
    "os.environ['CUDA_VISIBLE_DEVICES'] = GPU_id\n",
    "os.environ[\"CUPY_EXPERIMENTAL_SLICE_COPY\"] = \"1\"\n",
    "num_gpus = len(GPU_id.split(','))\n",
    "\n",
    "import warnings\n",
    "warnings.filterwarnings(\"ignore\")"
   ]
  },
  {
   "cell_type": "code",
   "execution_count": 2,
   "metadata": {},
   "outputs": [
    {
     "name": "stdout",
     "output_type": "stream",
     "text": [
      "dask 2.30.0+57.g3e264491\n",
      "dask_glm 0.2.1.dev52+g1daf4c5\n",
      "cupy 8.1.0\n",
      "dask_cudf 0.17.0a+265.g42fe2183f7\n"
     ]
    }
   ],
   "source": [
    "import dask.dataframe as dd\n",
    "from dask_glm.estimators import LogisticRegression\n",
    "from dask_glm.datasets import make_classification\n",
    "\n",
    "import time\n",
    "import dask_glm\n",
    "import dask\n",
    "import numpy as np\n",
    "import cupy as cp\n",
    "\n",
    "import dask_cudf\n",
    "from dask.distributed import Client, wait, LocalCluster\n",
    "from dask_cuda import LocalCUDACluster\n",
    "import dask.array as da\n",
    "\n",
    "print('dask', dask.__version__) # \n",
    "print('dask_glm', dask_glm.__version__) # \n",
    "print('cupy', cp.__version__) #\n",
    "print('dask_cudf', dask_cudf.__version__)"
   ]
  },
  {
   "cell_type": "code",
   "execution_count": 3,
   "metadata": {},
   "outputs": [],
   "source": [
    "def get_run_time(solver,min_samples,max_samples,data_type='cupy'):\n",
    "    times = []\n",
    "    for n in range(min_samples,max_samples+1):\n",
    "        n_samples=10**n\n",
    "        n_features = 20\n",
    "        chunks = num_gpus if data_type=='cupy' else 80 # dgx-1 has 40 cores and 80 hyperthreads\n",
    "        \n",
    "        dx, dy = make_classification(n_samples=n_samples, n_features=n_features, n_informative=10, chunksize=n_samples//chunks)\n",
    "        #dx = dx.astype('float32')\n",
    "        if data_type=='cupy':\n",
    "            dx, dy = to_cupy(dx, dy)\n",
    "        dx, dy = dask.persist(dx, dy)\n",
    "        wait(dx)\n",
    "        wait(dy)\n",
    "        start = time.time()\n",
    "        lr = LogisticRegression(solver=solver, max_iter=2)\n",
    "        lr.fit(dx,dy)\n",
    "        duration = time.time()-start\n",
    "        del dx,dy\n",
    "        del lr\n",
    "        times.append(duration)\n",
    "        print('%s samples:10^%d time:%.2f'%(solver,n,duration))\n",
    "    return times\n",
    "\n",
    "def to_cupy(X, y):\n",
    "    X = X.map_blocks(lambda x: cp.asarray(x),\n",
    "                         dtype=X.dtype, meta=cp.asarray(X._meta))\n",
    "    y = y.map_blocks(lambda x: cp.asarray(x),\n",
    "                     dtype=y.dtype, meta=cp.asarray(y._meta))\n",
    "    return X,y"
   ]
  },
  {
   "cell_type": "markdown",
   "metadata": {},
   "source": [
    "### Dask-glm on GPU"
   ]
  },
  {
   "cell_type": "code",
   "execution_count": 4,
   "metadata": {},
   "outputs": [
    {
     "data": {
      "text/html": [
       "<table style=\"border: 2px solid white;\">\n",
       "<tr>\n",
       "<td style=\"vertical-align: top; border: 0px solid white\">\n",
       "<h3 style=\"text-align: left;\">Client</h3>\n",
       "<ul style=\"text-align: left; list-style: none; margin: 0; padding: 0;\">\n",
       "  <li><b>Scheduler: </b>ucx://127.0.0.1:38285</li>\n",
       "  <li><b>Dashboard: </b><a href='http://127.0.0.1:8787/status' target='_blank'>http://127.0.0.1:8787/status</a></li>\n",
       "</ul>\n",
       "</td>\n",
       "<td style=\"vertical-align: top; border: 0px solid white\">\n",
       "<h3 style=\"text-align: left;\">Cluster</h3>\n",
       "<ul style=\"text-align: left; list-style:none; margin: 0; padding: 0;\">\n",
       "  <li><b>Workers: </b>8</li>\n",
       "  <li><b>Cores: </b>8</li>\n",
       "  <li><b>Memory: </b>1.08 TB</li>\n",
       "</ul>\n",
       "</td>\n",
       "</tr>\n",
       "</table>"
      ],
      "text/plain": [
       "<Client: 'ucx://127.0.0.1:38285' processes=8 threads=8, memory=1.08 TB>"
      ]
     },
     "execution_count": 4,
     "metadata": {},
     "output_type": "execute_result"
    }
   ],
   "source": [
    "cluster = LocalCUDACluster(protocol=\"ucx\", enable_tcp_over_ucx=True, enable_nvlink=True)\n",
    "client = Client(cluster)\n",
    "client"
   ]
  },
  {
   "cell_type": "markdown",
   "metadata": {},
   "source": [
    "There arer 8xV100 GPUs in dgx-1. `dask-cudf` is used to read data."
   ]
  },
  {
   "cell_type": "code",
   "execution_count": 5,
   "metadata": {},
   "outputs": [
    {
     "name": "stdout",
     "output_type": "stream",
     "text": [
      "CPU times: user 1.07 s, sys: 475 ms, total: 1.55 s\n",
      "Wall time: 4.66 s\n"
     ]
    },
    {
     "data": {
      "text/html": [
       "<div>\n",
       "<style scoped>\n",
       "    .dataframe tbody tr th:only-of-type {\n",
       "        vertical-align: middle;\n",
       "    }\n",
       "\n",
       "    .dataframe tbody tr th {\n",
       "        vertical-align: top;\n",
       "    }\n",
       "\n",
       "    .dataframe thead th {\n",
       "        text-align: right;\n",
       "    }\n",
       "</style>\n",
       "<table border=\"1\" class=\"dataframe\">\n",
       "  <thead>\n",
       "    <tr style=\"text-align: right;\">\n",
       "      <th></th>\n",
       "      <th>label</th>\n",
       "      <th>feature-01</th>\n",
       "      <th>feature-02</th>\n",
       "      <th>feature-03</th>\n",
       "      <th>feature-04</th>\n",
       "      <th>feature-05</th>\n",
       "      <th>feature-06</th>\n",
       "      <th>feature-07</th>\n",
       "      <th>feature-08</th>\n",
       "      <th>feature-09</th>\n",
       "      <th>...</th>\n",
       "      <th>feature-19</th>\n",
       "      <th>feature-20</th>\n",
       "      <th>feature-21</th>\n",
       "      <th>feature-22</th>\n",
       "      <th>feature-23</th>\n",
       "      <th>feature-24</th>\n",
       "      <th>feature-25</th>\n",
       "      <th>feature-26</th>\n",
       "      <th>feature-27</th>\n",
       "      <th>feature-28</th>\n",
       "    </tr>\n",
       "  </thead>\n",
       "  <tbody>\n",
       "    <tr>\n",
       "      <th>0</th>\n",
       "      <td>1.0</td>\n",
       "      <td>0.869293</td>\n",
       "      <td>-0.635082</td>\n",
       "      <td>0.225690</td>\n",
       "      <td>0.327470</td>\n",
       "      <td>-0.689993</td>\n",
       "      <td>0.754202</td>\n",
       "      <td>-0.248573</td>\n",
       "      <td>-1.092064</td>\n",
       "      <td>0.000000</td>\n",
       "      <td>...</td>\n",
       "      <td>-0.010455</td>\n",
       "      <td>-0.045767</td>\n",
       "      <td>3.101961</td>\n",
       "      <td>1.353760</td>\n",
       "      <td>0.979563</td>\n",
       "      <td>0.978076</td>\n",
       "      <td>0.920005</td>\n",
       "      <td>0.721657</td>\n",
       "      <td>0.988751</td>\n",
       "      <td>0.876678</td>\n",
       "    </tr>\n",
       "    <tr>\n",
       "      <th>1</th>\n",
       "      <td>1.0</td>\n",
       "      <td>0.907542</td>\n",
       "      <td>0.329147</td>\n",
       "      <td>0.359412</td>\n",
       "      <td>1.497970</td>\n",
       "      <td>-0.313010</td>\n",
       "      <td>1.095531</td>\n",
       "      <td>-0.557525</td>\n",
       "      <td>-1.588230</td>\n",
       "      <td>2.173076</td>\n",
       "      <td>...</td>\n",
       "      <td>-1.138930</td>\n",
       "      <td>-0.000819</td>\n",
       "      <td>0.000000</td>\n",
       "      <td>0.302220</td>\n",
       "      <td>0.833048</td>\n",
       "      <td>0.985700</td>\n",
       "      <td>0.978098</td>\n",
       "      <td>0.779732</td>\n",
       "      <td>0.992356</td>\n",
       "      <td>0.798343</td>\n",
       "    </tr>\n",
       "    <tr>\n",
       "      <th>2</th>\n",
       "      <td>1.0</td>\n",
       "      <td>0.798835</td>\n",
       "      <td>1.470639</td>\n",
       "      <td>-1.635975</td>\n",
       "      <td>0.453773</td>\n",
       "      <td>0.425629</td>\n",
       "      <td>1.104875</td>\n",
       "      <td>1.282322</td>\n",
       "      <td>1.381664</td>\n",
       "      <td>0.000000</td>\n",
       "      <td>...</td>\n",
       "      <td>1.128848</td>\n",
       "      <td>0.900461</td>\n",
       "      <td>0.000000</td>\n",
       "      <td>0.909753</td>\n",
       "      <td>1.108330</td>\n",
       "      <td>0.985692</td>\n",
       "      <td>0.951331</td>\n",
       "      <td>0.803252</td>\n",
       "      <td>0.865924</td>\n",
       "      <td>0.780118</td>\n",
       "    </tr>\n",
       "    <tr>\n",
       "      <th>3</th>\n",
       "      <td>0.0</td>\n",
       "      <td>1.344385</td>\n",
       "      <td>-0.876626</td>\n",
       "      <td>0.935913</td>\n",
       "      <td>1.992050</td>\n",
       "      <td>0.882454</td>\n",
       "      <td>1.786066</td>\n",
       "      <td>-1.646778</td>\n",
       "      <td>-0.942383</td>\n",
       "      <td>0.000000</td>\n",
       "      <td>...</td>\n",
       "      <td>-0.678379</td>\n",
       "      <td>-1.360356</td>\n",
       "      <td>0.000000</td>\n",
       "      <td>0.946652</td>\n",
       "      <td>1.028704</td>\n",
       "      <td>0.998656</td>\n",
       "      <td>0.728281</td>\n",
       "      <td>0.869200</td>\n",
       "      <td>1.026736</td>\n",
       "      <td>0.957904</td>\n",
       "    </tr>\n",
       "    <tr>\n",
       "      <th>4</th>\n",
       "      <td>1.0</td>\n",
       "      <td>1.105009</td>\n",
       "      <td>0.321356</td>\n",
       "      <td>1.522401</td>\n",
       "      <td>0.882808</td>\n",
       "      <td>-1.205349</td>\n",
       "      <td>0.681466</td>\n",
       "      <td>-1.070464</td>\n",
       "      <td>-0.921871</td>\n",
       "      <td>0.000000</td>\n",
       "      <td>...</td>\n",
       "      <td>-0.373566</td>\n",
       "      <td>0.113041</td>\n",
       "      <td>0.000000</td>\n",
       "      <td>0.755856</td>\n",
       "      <td>1.361057</td>\n",
       "      <td>0.986610</td>\n",
       "      <td>0.838085</td>\n",
       "      <td>1.133295</td>\n",
       "      <td>0.872245</td>\n",
       "      <td>0.808487</td>\n",
       "    </tr>\n",
       "  </tbody>\n",
       "</table>\n",
       "<p>5 rows × 29 columns</p>\n",
       "</div>"
      ],
      "text/plain": [
       "   label  feature-01  feature-02  feature-03  feature-04  feature-05  \\\n",
       "0    1.0    0.869293   -0.635082    0.225690    0.327470   -0.689993   \n",
       "1    1.0    0.907542    0.329147    0.359412    1.497970   -0.313010   \n",
       "2    1.0    0.798835    1.470639   -1.635975    0.453773    0.425629   \n",
       "3    0.0    1.344385   -0.876626    0.935913    1.992050    0.882454   \n",
       "4    1.0    1.105009    0.321356    1.522401    0.882808   -1.205349   \n",
       "\n",
       "   feature-06  feature-07  feature-08  feature-09  ...  feature-19  \\\n",
       "0    0.754202   -0.248573   -1.092064    0.000000  ...   -0.010455   \n",
       "1    1.095531   -0.557525   -1.588230    2.173076  ...   -1.138930   \n",
       "2    1.104875    1.282322    1.381664    0.000000  ...    1.128848   \n",
       "3    1.786066   -1.646778   -0.942383    0.000000  ...   -0.678379   \n",
       "4    0.681466   -1.070464   -0.921871    0.000000  ...   -0.373566   \n",
       "\n",
       "   feature-20  feature-21  feature-22  feature-23  feature-24  feature-25  \\\n",
       "0   -0.045767    3.101961    1.353760    0.979563    0.978076    0.920005   \n",
       "1   -0.000819    0.000000    0.302220    0.833048    0.985700    0.978098   \n",
       "2    0.900461    0.000000    0.909753    1.108330    0.985692    0.951331   \n",
       "3   -1.360356    0.000000    0.946652    1.028704    0.998656    0.728281   \n",
       "4    0.113041    0.000000    0.755856    1.361057    0.986610    0.838085   \n",
       "\n",
       "   feature-26  feature-27  feature-28  \n",
       "0    0.721657    0.988751    0.876678  \n",
       "1    0.779732    0.992356    0.798343  \n",
       "2    0.803252    0.865924    0.780118  \n",
       "3    0.869200    1.026736    0.957904  \n",
       "4    1.133295    0.872245    0.808487  \n",
       "\n",
       "[5 rows x 29 columns]"
      ]
     },
     "execution_count": 5,
     "metadata": {},
     "output_type": "execute_result"
    }
   ],
   "source": [
    "%%time\n",
    "# download data from:\n",
    "# https://archive.ics.uci.edu/ml/machine-learning-databases/00280/HIGGS.csv.gz\n",
    "\n",
    "fname = '/raid/data/ml/higgs/HIGGS.csv'\n",
    "colnames = ['label'] + ['feature-%02d' % i for i in range(1, 29)]\n",
    "\n",
    "dask_df = dask_cudf.read_csv(fname, header=None, names=colnames)\n",
    "\n",
    "ddf = dask_df.repartition(npartitions=num_gpus) # set it to the number of GPUs for best performance\n",
    "ddf.head()"
   ]
  },
  {
   "cell_type": "code",
   "execution_count": 6,
   "metadata": {},
   "outputs": [
    {
     "name": "stdout",
     "output_type": "stream",
     "text": [
      "number of samples: 11000000\n",
      "number of features: 29\n",
      "CPU times: user 396 ms, sys: 26.1 ms, total: 422 ms\n",
      "Wall time: 5.29 s\n"
     ]
    }
   ],
   "source": [
    "%%time\n",
    "print('number of samples:', len(ddf))\n",
    "print('number of features:', ddf.shape[1])"
   ]
  },
  {
   "cell_type": "code",
   "execution_count": 7,
   "metadata": {},
   "outputs": [
    {
     "name": "stdout",
     "output_type": "stream",
     "text": [
      "mean target:0.530\n",
      "CPU times: user 359 ms, sys: 53.7 ms, total: 412 ms\n",
      "Wall time: 3.3 s\n"
     ]
    }
   ],
   "source": [
    "%%time\n",
    "print(f\"mean target:{ddf['label'].mean().compute():.3f}\")"
   ]
  },
  {
   "cell_type": "markdown",
   "metadata": {},
   "source": [
    "**So there are 11M samples and 28 numerical features**. The target column `label` is binary and it is pretty balanced."
   ]
  },
  {
   "cell_type": "code",
   "execution_count": 8,
   "metadata": {},
   "outputs": [
    {
     "name": "stdout",
     "output_type": "stream",
     "text": [
      "11000000 8\n",
      "CPU times: user 289 ms, sys: 37.8 ms, total: 327 ms\n",
      "Wall time: 3.69 s\n"
     ]
    },
    {
     "data": {
      "text/html": [
       "<div><strong>Dask DataFrame Structure:</strong></div>\n",
       "<div>\n",
       "<style scoped>\n",
       "    .dataframe tbody tr th:only-of-type {\n",
       "        vertical-align: middle;\n",
       "    }\n",
       "\n",
       "    .dataframe tbody tr th {\n",
       "        vertical-align: top;\n",
       "    }\n",
       "\n",
       "    .dataframe thead th {\n",
       "        text-align: right;\n",
       "    }\n",
       "</style>\n",
       "<table border=\"1\" class=\"dataframe\">\n",
       "  <thead>\n",
       "    <tr style=\"text-align: right;\">\n",
       "      <th></th>\n",
       "      <th>feature-01</th>\n",
       "      <th>feature-02</th>\n",
       "      <th>feature-03</th>\n",
       "      <th>feature-04</th>\n",
       "      <th>feature-05</th>\n",
       "      <th>feature-06</th>\n",
       "      <th>feature-07</th>\n",
       "      <th>feature-08</th>\n",
       "      <th>feature-09</th>\n",
       "      <th>feature-10</th>\n",
       "      <th>feature-11</th>\n",
       "      <th>feature-12</th>\n",
       "      <th>feature-13</th>\n",
       "      <th>feature-14</th>\n",
       "      <th>feature-15</th>\n",
       "      <th>feature-16</th>\n",
       "      <th>feature-17</th>\n",
       "      <th>feature-18</th>\n",
       "      <th>feature-19</th>\n",
       "      <th>feature-20</th>\n",
       "      <th>feature-21</th>\n",
       "      <th>feature-22</th>\n",
       "      <th>feature-23</th>\n",
       "      <th>feature-24</th>\n",
       "      <th>feature-25</th>\n",
       "      <th>feature-26</th>\n",
       "      <th>feature-27</th>\n",
       "      <th>feature-28</th>\n",
       "    </tr>\n",
       "    <tr>\n",
       "      <th>npartitions=8</th>\n",
       "      <th></th>\n",
       "      <th></th>\n",
       "      <th></th>\n",
       "      <th></th>\n",
       "      <th></th>\n",
       "      <th></th>\n",
       "      <th></th>\n",
       "      <th></th>\n",
       "      <th></th>\n",
       "      <th></th>\n",
       "      <th></th>\n",
       "      <th></th>\n",
       "      <th></th>\n",
       "      <th></th>\n",
       "      <th></th>\n",
       "      <th></th>\n",
       "      <th></th>\n",
       "      <th></th>\n",
       "      <th></th>\n",
       "      <th></th>\n",
       "      <th></th>\n",
       "      <th></th>\n",
       "      <th></th>\n",
       "      <th></th>\n",
       "      <th></th>\n",
       "      <th></th>\n",
       "      <th></th>\n",
       "      <th></th>\n",
       "    </tr>\n",
       "  </thead>\n",
       "  <tbody>\n",
       "    <tr>\n",
       "      <th></th>\n",
       "      <td>float64</td>\n",
       "      <td>float64</td>\n",
       "      <td>float64</td>\n",
       "      <td>float64</td>\n",
       "      <td>float64</td>\n",
       "      <td>float64</td>\n",
       "      <td>float64</td>\n",
       "      <td>float64</td>\n",
       "      <td>float64</td>\n",
       "      <td>float64</td>\n",
       "      <td>float64</td>\n",
       "      <td>float64</td>\n",
       "      <td>float64</td>\n",
       "      <td>float64</td>\n",
       "      <td>float64</td>\n",
       "      <td>float64</td>\n",
       "      <td>float64</td>\n",
       "      <td>float64</td>\n",
       "      <td>float64</td>\n",
       "      <td>float64</td>\n",
       "      <td>float64</td>\n",
       "      <td>float64</td>\n",
       "      <td>float64</td>\n",
       "      <td>float64</td>\n",
       "      <td>float64</td>\n",
       "      <td>float64</td>\n",
       "      <td>float64</td>\n",
       "      <td>float64</td>\n",
       "    </tr>\n",
       "    <tr>\n",
       "      <th></th>\n",
       "      <td>...</td>\n",
       "      <td>...</td>\n",
       "      <td>...</td>\n",
       "      <td>...</td>\n",
       "      <td>...</td>\n",
       "      <td>...</td>\n",
       "      <td>...</td>\n",
       "      <td>...</td>\n",
       "      <td>...</td>\n",
       "      <td>...</td>\n",
       "      <td>...</td>\n",
       "      <td>...</td>\n",
       "      <td>...</td>\n",
       "      <td>...</td>\n",
       "      <td>...</td>\n",
       "      <td>...</td>\n",
       "      <td>...</td>\n",
       "      <td>...</td>\n",
       "      <td>...</td>\n",
       "      <td>...</td>\n",
       "      <td>...</td>\n",
       "      <td>...</td>\n",
       "      <td>...</td>\n",
       "      <td>...</td>\n",
       "      <td>...</td>\n",
       "      <td>...</td>\n",
       "      <td>...</td>\n",
       "      <td>...</td>\n",
       "    </tr>\n",
       "    <tr>\n",
       "      <th>...</th>\n",
       "      <td>...</td>\n",
       "      <td>...</td>\n",
       "      <td>...</td>\n",
       "      <td>...</td>\n",
       "      <td>...</td>\n",
       "      <td>...</td>\n",
       "      <td>...</td>\n",
       "      <td>...</td>\n",
       "      <td>...</td>\n",
       "      <td>...</td>\n",
       "      <td>...</td>\n",
       "      <td>...</td>\n",
       "      <td>...</td>\n",
       "      <td>...</td>\n",
       "      <td>...</td>\n",
       "      <td>...</td>\n",
       "      <td>...</td>\n",
       "      <td>...</td>\n",
       "      <td>...</td>\n",
       "      <td>...</td>\n",
       "      <td>...</td>\n",
       "      <td>...</td>\n",
       "      <td>...</td>\n",
       "      <td>...</td>\n",
       "      <td>...</td>\n",
       "      <td>...</td>\n",
       "      <td>...</td>\n",
       "      <td>...</td>\n",
       "    </tr>\n",
       "    <tr>\n",
       "      <th></th>\n",
       "      <td>...</td>\n",
       "      <td>...</td>\n",
       "      <td>...</td>\n",
       "      <td>...</td>\n",
       "      <td>...</td>\n",
       "      <td>...</td>\n",
       "      <td>...</td>\n",
       "      <td>...</td>\n",
       "      <td>...</td>\n",
       "      <td>...</td>\n",
       "      <td>...</td>\n",
       "      <td>...</td>\n",
       "      <td>...</td>\n",
       "      <td>...</td>\n",
       "      <td>...</td>\n",
       "      <td>...</td>\n",
       "      <td>...</td>\n",
       "      <td>...</td>\n",
       "      <td>...</td>\n",
       "      <td>...</td>\n",
       "      <td>...</td>\n",
       "      <td>...</td>\n",
       "      <td>...</td>\n",
       "      <td>...</td>\n",
       "      <td>...</td>\n",
       "      <td>...</td>\n",
       "      <td>...</td>\n",
       "      <td>...</td>\n",
       "    </tr>\n",
       "    <tr>\n",
       "      <th></th>\n",
       "      <td>...</td>\n",
       "      <td>...</td>\n",
       "      <td>...</td>\n",
       "      <td>...</td>\n",
       "      <td>...</td>\n",
       "      <td>...</td>\n",
       "      <td>...</td>\n",
       "      <td>...</td>\n",
       "      <td>...</td>\n",
       "      <td>...</td>\n",
       "      <td>...</td>\n",
       "      <td>...</td>\n",
       "      <td>...</td>\n",
       "      <td>...</td>\n",
       "      <td>...</td>\n",
       "      <td>...</td>\n",
       "      <td>...</td>\n",
       "      <td>...</td>\n",
       "      <td>...</td>\n",
       "      <td>...</td>\n",
       "      <td>...</td>\n",
       "      <td>...</td>\n",
       "      <td>...</td>\n",
       "      <td>...</td>\n",
       "      <td>...</td>\n",
       "      <td>...</td>\n",
       "      <td>...</td>\n",
       "      <td>...</td>\n",
       "    </tr>\n",
       "  </tbody>\n",
       "</table>\n",
       "</div>\n",
       "<div>Dask Name: getitem, 46 tasks</div>"
      ],
      "text/plain": [
       "<dask_cudf.DataFrame | 46 tasks | 8 npartitions>"
      ]
     },
     "execution_count": 8,
     "metadata": {},
     "output_type": "execute_result"
    }
   ],
   "source": [
    "%%time\n",
    "print(len(ddf), ddf.npartitions)\n",
    "y = ddf['label']\n",
    "X = ddf[ddf.columns.difference(['label'])]\n",
    "\n",
    "X"
   ]
  },
  {
   "cell_type": "markdown",
   "metadata": {},
   "source": [
    "Unfortunately `dask.dataframe` is not accepted by `dask-glm` at the moment. We have to convert them to arrays. "
   ]
  },
  {
   "cell_type": "code",
   "execution_count": 9,
   "metadata": {},
   "outputs": [
    {
     "name": "stdout",
     "output_type": "stream",
     "text": [
      "CPU times: user 7.03 ms, sys: 0 ns, total: 7.03 ms\n",
      "Wall time: 5.71 ms\n"
     ]
    },
    {
     "data": {
      "text/html": [
       "<table>\n",
       "<tr>\n",
       "<td>\n",
       "<table>\n",
       "  <thead>\n",
       "    <tr><td> </td><th> Array </th><th> Chunk </th></tr>\n",
       "  </thead>\n",
       "  <tbody>\n",
       "    <tr><th> Bytes </th><td> unknown </td> <td> unknown </td></tr>\n",
       "    <tr><th> Shape </th><td> (nan, 28) </td> <td> (nan, 28) </td></tr>\n",
       "    <tr><th> Count </th><td> 54 Tasks </td><td> 8 Chunks </td></tr>\n",
       "    <tr><th> Type </th><td> float64 </td><td> numpy.ndarray </td></tr>\n",
       "  </tbody>\n",
       "</table>\n",
       "</td>\n",
       "<td>\n",
       "\n",
       "</td>\n",
       "</tr>\n",
       "</table>"
      ],
      "text/plain": [
       "dask.array<values, shape=(nan, 28), dtype=float64, chunksize=(nan, 28), chunktype=numpy.ndarray>"
      ]
     },
     "execution_count": 9,
     "metadata": {},
     "output_type": "execute_result"
    }
   ],
   "source": [
    "%%time\n",
    "# convert dask dataframes to dask arrays\n",
    "Xa = X.values\n",
    "ya = y.values\n",
    "\n",
    "Xa"
   ]
  },
  {
   "cell_type": "markdown",
   "metadata": {},
   "source": [
    "We make two observations:\n",
    "- the chunk type is incorrect. it is supposed to be `cupy.ndarray`\n",
    "- the chunk shape is `nan`.\n",
    "\n",
    "Both of these lead to errors when we feed these data to `dask-glm`"
   ]
  },
  {
   "cell_type": "markdown",
   "metadata": {},
   "source": [
    "**Fix the chunk type**"
   ]
  },
  {
   "cell_type": "code",
   "execution_count": 10,
   "metadata": {},
   "outputs": [
    {
     "name": "stdout",
     "output_type": "stream",
     "text": [
      "CPU times: user 276 µs, sys: 0 ns, total: 276 µs\n",
      "Wall time: 208 µs\n"
     ]
    }
   ],
   "source": [
    "%%time\n",
    "# Make the chunk type cupy\n",
    "Xa._meta = cp.asarray(Xa._meta)\n",
    "ya._meta = cp.asarray(ya._meta)"
   ]
  },
  {
   "cell_type": "markdown",
   "metadata": {},
   "source": [
    "**Compute the chunk shape**"
   ]
  },
  {
   "cell_type": "code",
   "execution_count": 11,
   "metadata": {},
   "outputs": [
    {
     "name": "stdout",
     "output_type": "stream",
     "text": [
      "CPU times: user 521 ms, sys: 106 ms, total: 627 ms\n",
      "Wall time: 6.6 s\n"
     ]
    },
    {
     "data": {
      "text/html": [
       "<table>\n",
       "<tr>\n",
       "<td>\n",
       "<table>\n",
       "  <thead>\n",
       "    <tr><td> </td><th> Array </th><th> Chunk </th></tr>\n",
       "  </thead>\n",
       "  <tbody>\n",
       "    <tr><th> Bytes </th><td> 2.46 GB </td> <td> 329.25 MB </td></tr>\n",
       "    <tr><th> Shape </th><td> (11000000, 28) </td> <td> (1469876, 28) </td></tr>\n",
       "    <tr><th> Count </th><td> 54 Tasks </td><td> 8 Chunks </td></tr>\n",
       "    <tr><th> Type </th><td> float64 </td><td> cupy.ndarray </td></tr>\n",
       "  </tbody>\n",
       "</table>\n",
       "</td>\n",
       "<td>\n",
       "<svg width=\"75\" height=\"170\" style=\"stroke:rgb(0,0,0);stroke-width:1\" >\n",
       "\n",
       "  <!-- Horizontal lines -->\n",
       "  <line x1=\"0\" y1=\"0\" x2=\"25\" y2=\"0\" style=\"stroke-width:2\" />\n",
       "  <line x1=\"0\" y1=\"12\" x2=\"25\" y2=\"12\" />\n",
       "  <line x1=\"0\" y1=\"28\" x2=\"25\" y2=\"28\" />\n",
       "  <line x1=\"0\" y1=\"44\" x2=\"25\" y2=\"44\" />\n",
       "  <line x1=\"0\" y1=\"60\" x2=\"25\" y2=\"60\" />\n",
       "  <line x1=\"0\" y1=\"72\" x2=\"25\" y2=\"72\" />\n",
       "  <line x1=\"0\" y1=\"88\" x2=\"25\" y2=\"88\" />\n",
       "  <line x1=\"0\" y1=\"104\" x2=\"25\" y2=\"104\" />\n",
       "  <line x1=\"0\" y1=\"120\" x2=\"25\" y2=\"120\" style=\"stroke-width:2\" />\n",
       "\n",
       "  <!-- Vertical lines -->\n",
       "  <line x1=\"0\" y1=\"0\" x2=\"0\" y2=\"120\" style=\"stroke-width:2\" />\n",
       "  <line x1=\"25\" y1=\"0\" x2=\"25\" y2=\"120\" style=\"stroke-width:2\" />\n",
       "\n",
       "  <!-- Colored Rectangle -->\n",
       "  <polygon points=\"0.0,0.0 25.412616514582485,0.0 25.412616514582485,120.0 0.0,120.0\" style=\"fill:#ECB172A0;stroke-width:0\"/>\n",
       "\n",
       "  <!-- Text -->\n",
       "  <text x=\"12.706308\" y=\"140.000000\" font-size=\"1.0rem\" font-weight=\"100\" text-anchor=\"middle\" >28</text>\n",
       "  <text x=\"45.412617\" y=\"60.000000\" font-size=\"1.0rem\" font-weight=\"100\" text-anchor=\"middle\" transform=\"rotate(-90,45.412617,60.000000)\">11000000</text>\n",
       "</svg>\n",
       "</td>\n",
       "</tr>\n",
       "</table>"
      ],
      "text/plain": [
       "dask.array<values, shape=(11000000, 28), dtype=float64, chunksize=(1469876, 28), chunktype=cupy.ndarray>"
      ]
     },
     "execution_count": 11,
     "metadata": {},
     "output_type": "execute_result"
    }
   ],
   "source": [
    "%%time\n",
    "Xa.compute_chunk_sizes()\n",
    "ya.compute_chunk_sizes()\n",
    "Xa"
   ]
  },
  {
   "cell_type": "code",
   "execution_count": 12,
   "metadata": {},
   "outputs": [
    {
     "name": "stdout",
     "output_type": "stream",
     "text": [
      "CPU times: user 260 ms, sys: 33.6 ms, total: 294 ms\n",
      "Wall time: 3.11 s\n"
     ]
    }
   ],
   "source": [
    "%%time\n",
    "\n",
    "Xa, ya = dask.persist(Xa, ya)\n",
    "wait(Xa)\n",
    "_ = wait(ya)"
   ]
  },
  {
   "cell_type": "code",
   "execution_count": 13,
   "metadata": {},
   "outputs": [
    {
     "name": "stdout",
     "output_type": "stream",
     "text": [
      "Training Accuracy 0.641\n",
      "CPU times: user 2.62 s, sys: 348 ms, total: 2.97 s\n",
      "Wall time: 6.85 s\n"
     ]
    }
   ],
   "source": [
    "%%time\n",
    "start = time.time()\n",
    "lr = LogisticRegression(solver='lbfgs', max_iter=10)\n",
    "lr.fit(Xa, ya)\n",
    "yp = lr.predict(Xa)\n",
    "acc = (yp==ya).mean().compute()\n",
    "print('Training Accuracy %.3f'%acc)\n",
    "gpu_higgs_time = time.time() - start"
   ]
  },
  {
   "cell_type": "markdown",
   "metadata": {},
   "source": [
    "**It took only `5` seconds to train and predict 11M samples!** As we will see below, it is **14x speedup** over the CPU solution."
   ]
  },
  {
   "cell_type": "markdown",
   "metadata": {},
   "source": [
    "**We also record the running time on random synthetic data with increasing sizes.**"
   ]
  },
  {
   "cell_type": "code",
   "execution_count": 14,
   "metadata": {},
   "outputs": [
    {
     "name": "stdout",
     "output_type": "stream",
     "text": [
      "admm samples:10^3 time:0.76\n",
      "admm samples:10^4 time:0.73\n",
      "admm samples:10^5 time:1.12\n",
      "admm samples:10^6 time:1.57\n",
      "admm samples:10^7 time:2.82\n",
      "admm samples:10^8 time:5.33\n",
      "lbfgs samples:10^3 time:0.62\n",
      "lbfgs samples:10^4 time:0.71\n",
      "lbfgs samples:10^5 time:0.96\n",
      "lbfgs samples:10^6 time:1.10\n",
      "lbfgs samples:10^7 time:1.44\n",
      "lbfgs samples:10^8 time:4.90\n",
      "newton samples:10^3 time:1.38\n",
      "newton samples:10^4 time:0.93\n",
      "newton samples:10^5 time:0.80\n",
      "newton samples:10^6 time:0.89\n",
      "newton samples:10^7 time:1.63\n",
      "newton samples:10^8 time:4.62\n",
      "proximal_grad samples:10^3 time:1.18\n",
      "proximal_grad samples:10^4 time:1.59\n",
      "proximal_grad samples:10^5 time:2.34\n",
      "proximal_grad samples:10^6 time:2.65\n",
      "proximal_grad samples:10^7 time:4.49\n",
      "proximal_grad samples:10^8 time:13.50\n",
      "gradient_descent samples:10^3 time:1.11\n",
      "gradient_descent samples:10^4 time:1.40\n",
      "gradient_descent samples:10^5 time:1.32\n",
      "gradient_descent samples:10^6 time:1.78\n",
      "gradient_descent samples:10^7 time:3.41\n",
      "gradient_descent samples:10^8 time:10.05\n",
      "CPU times: user 35.7 s, sys: 4.16 s, total: 39.8 s\n",
      "Wall time: 2min 34s\n"
     ]
    }
   ],
   "source": [
    "%%time\n",
    "\n",
    "# record the running time on random synthetic data\n",
    "\n",
    "solvers = ['admm', 'lbfgs', 'newton', 'proximal_grad', 'gradient_descent']\n",
    "cupy_time = {}\n",
    "for s in solvers:\n",
    "    cupy_time[s] = get_run_time(s,3,8,data_type='cupy')"
   ]
  },
  {
   "cell_type": "markdown",
   "metadata": {},
   "source": [
    "### Dask glm on CPU"
   ]
  },
  {
   "cell_type": "code",
   "execution_count": 15,
   "metadata": {},
   "outputs": [
    {
     "data": {
      "text/html": [
       "<table style=\"border: 2px solid white;\">\n",
       "<tr>\n",
       "<td style=\"vertical-align: top; border: 0px solid white\">\n",
       "<h3 style=\"text-align: left;\">Client</h3>\n",
       "<ul style=\"text-align: left; list-style: none; margin: 0; padding: 0;\">\n",
       "  <li><b>Scheduler: </b>tcp://127.0.0.1:38885</li>\n",
       "  <li><b>Dashboard: </b><a href='http://127.0.0.1:38645/status' target='_blank'>http://127.0.0.1:38645/status</a></li>\n",
       "</ul>\n",
       "</td>\n",
       "<td style=\"vertical-align: top; border: 0px solid white\">\n",
       "<h3 style=\"text-align: left;\">Cluster</h3>\n",
       "<ul style=\"text-align: left; list-style:none; margin: 0; padding: 0;\">\n",
       "  <li><b>Workers: </b>80</li>\n",
       "  <li><b>Cores: </b>80</li>\n",
       "  <li><b>Memory: </b>1.08 TB</li>\n",
       "</ul>\n",
       "</td>\n",
       "</tr>\n",
       "</table>"
      ],
      "text/plain": [
       "<Client: 'tcp://127.0.0.1:38885' processes=80 threads=80, memory=1.08 TB>"
      ]
     },
     "execution_count": 15,
     "metadata": {},
     "output_type": "execute_result"
    }
   ],
   "source": [
    "# dask glm cpu baseline\n",
    "cluster = LocalCluster(n_workers=80)\n",
    "client = Client(cluster)\n",
    "client"
   ]
  },
  {
   "cell_type": "markdown",
   "metadata": {},
   "source": [
    "The CPU has 40 cores and 80 hyperthreads on `dgx-1`."
   ]
  },
  {
   "cell_type": "code",
   "execution_count": 16,
   "metadata": {},
   "outputs": [
    {
     "name": "stdout",
     "output_type": "stream",
     "text": [
      "11000000 80\n",
      "CPU times: user 9.97 s, sys: 5.09 s, total: 15.1 s\n",
      "Wall time: 17.5 s\n"
     ]
    },
    {
     "data": {
      "text/html": [
       "<table>\n",
       "<tr>\n",
       "<td>\n",
       "<table>\n",
       "  <thead>\n",
       "    <tr><td> </td><th> Array </th><th> Chunk </th></tr>\n",
       "  </thead>\n",
       "  <tbody>\n",
       "    <tr><th> Bytes </th><td> 2.46 GB </td> <td> 39.25 MB </td></tr>\n",
       "    <tr><th> Shape </th><td> (11000000, 28) </td> <td> (175225, 28) </td></tr>\n",
       "    <tr><th> Count </th><td> 80 Tasks </td><td> 80 Chunks </td></tr>\n",
       "    <tr><th> Type </th><td> float64 </td><td> numpy.ndarray </td></tr>\n",
       "  </tbody>\n",
       "</table>\n",
       "</td>\n",
       "<td>\n",
       "<svg width=\"75\" height=\"170\" style=\"stroke:rgb(0,0,0);stroke-width:1\" >\n",
       "\n",
       "  <!-- Horizontal lines -->\n",
       "  <line x1=\"0\" y1=\"0\" x2=\"25\" y2=\"0\" style=\"stroke-width:2\" />\n",
       "  <line x1=\"0\" y1=\"5\" x2=\"25\" y2=\"5\" />\n",
       "  <line x1=\"0\" y1=\"11\" x2=\"25\" y2=\"11\" />\n",
       "  <line x1=\"0\" y1=\"17\" x2=\"25\" y2=\"17\" />\n",
       "  <line x1=\"0\" y1=\"23\" x2=\"25\" y2=\"23\" />\n",
       "  <line x1=\"0\" y1=\"31\" x2=\"25\" y2=\"31\" />\n",
       "  <line x1=\"0\" y1=\"37\" x2=\"25\" y2=\"37\" />\n",
       "  <line x1=\"0\" y1=\"43\" x2=\"25\" y2=\"43\" />\n",
       "  <line x1=\"0\" y1=\"48\" x2=\"25\" y2=\"48\" />\n",
       "  <line x1=\"0\" y1=\"55\" x2=\"25\" y2=\"55\" />\n",
       "  <line x1=\"0\" y1=\"63\" x2=\"25\" y2=\"63\" />\n",
       "  <line x1=\"0\" y1=\"68\" x2=\"25\" y2=\"68\" />\n",
       "  <line x1=\"0\" y1=\"74\" x2=\"25\" y2=\"74\" />\n",
       "  <line x1=\"0\" y1=\"81\" x2=\"25\" y2=\"81\" />\n",
       "  <line x1=\"0\" y1=\"86\" x2=\"25\" y2=\"86\" />\n",
       "  <line x1=\"0\" y1=\"94\" x2=\"25\" y2=\"94\" />\n",
       "  <line x1=\"0\" y1=\"100\" x2=\"25\" y2=\"100\" />\n",
       "  <line x1=\"0\" y1=\"106\" x2=\"25\" y2=\"106\" />\n",
       "  <line x1=\"0\" y1=\"112\" x2=\"25\" y2=\"112\" />\n",
       "  <line x1=\"0\" y1=\"120\" x2=\"25\" y2=\"120\" style=\"stroke-width:2\" />\n",
       "\n",
       "  <!-- Vertical lines -->\n",
       "  <line x1=\"0\" y1=\"0\" x2=\"0\" y2=\"120\" style=\"stroke-width:2\" />\n",
       "  <line x1=\"25\" y1=\"0\" x2=\"25\" y2=\"120\" style=\"stroke-width:2\" />\n",
       "\n",
       "  <!-- Colored Rectangle -->\n",
       "  <polygon points=\"0.0,0.0 25.412616514582485,0.0 25.412616514582485,120.0 0.0,120.0\" style=\"fill:#8B4903A0;stroke-width:0\"/>\n",
       "\n",
       "  <!-- Text -->\n",
       "  <text x=\"12.706308\" y=\"140.000000\" font-size=\"1.0rem\" font-weight=\"100\" text-anchor=\"middle\" >28</text>\n",
       "  <text x=\"45.412617\" y=\"60.000000\" font-size=\"1.0rem\" font-weight=\"100\" text-anchor=\"middle\" transform=\"rotate(-90,45.412617,60.000000)\">11000000</text>\n",
       "</svg>\n",
       "</td>\n",
       "</tr>\n",
       "</table>"
      ],
      "text/plain": [
       "dask.array<values, shape=(11000000, 28), dtype=float64, chunksize=(175225, 28), chunktype=numpy.ndarray>"
      ]
     },
     "execution_count": 16,
     "metadata": {},
     "output_type": "execute_result"
    }
   ],
   "source": [
    "%%time\n",
    "\n",
    "dask_df = dd.read_csv(fname, header=None, names=colnames)\n",
    "dask_df = dask_df.repartition(npartitions=80) # one partition per thread\n",
    "\n",
    "print(len(dask_df), dask_df.npartitions)\n",
    "y = dask_df['label']\n",
    "X = dask_df[dask_df.columns.difference(['label'])]\n",
    "\n",
    "Xa = X.values\n",
    "ya = y.values\n",
    "\n",
    "Xa.compute_chunk_sizes()\n",
    "ya.compute_chunk_sizes()\n",
    "\n",
    "Xa, ya = dask.persist(Xa, ya)\n",
    "wait(Xa)\n",
    "wait(ya)\n",
    "\n",
    "Xa"
   ]
  },
  {
   "cell_type": "code",
   "execution_count": 17,
   "metadata": {},
   "outputs": [
    {
     "name": "stdout",
     "output_type": "stream",
     "text": [
      "Training Accuracy 0.641\n",
      "CPU times: user 35.3 s, sys: 11 s, total: 46.3 s\n",
      "Wall time: 1min 20s\n"
     ]
    }
   ],
   "source": [
    "%%time\n",
    "start = time.time()\n",
    "lr = LogisticRegression(solver='lbfgs', max_iter=10)\n",
    "lr.fit(Xa, ya)\n",
    "yp = lr.predict(Xa)\n",
    "acc = (yp==ya).mean().compute()\n",
    "print('Training Accuracy %.3f'%acc)\n",
    "cpu_higgs_time = time.time() - start"
   ]
  },
  {
   "cell_type": "markdown",
   "metadata": {},
   "source": [
    "We see the same training accuracy but much longer running time. The GPU solution achieves **14x speedup** over the CPU solution"
   ]
  },
  {
   "cell_type": "code",
   "execution_count": null,
   "metadata": {},
   "outputs": [
    {
     "name": "stdout",
     "output_type": "stream",
     "text": [
      "admm samples:10^3 time:2.77\n",
      "admm samples:10^4 time:2.42\n",
      "admm samples:10^5 time:9.88\n",
      "admm samples:10^6 time:15.43\n",
      "admm samples:10^7 time:72.64\n",
      "admm samples:10^8 time:107.17\n",
      "lbfgs samples:10^3 time:4.90\n",
      "lbfgs samples:10^4 time:4.52\n",
      "lbfgs samples:10^5 time:10.87\n",
      "lbfgs samples:10^6 time:16.79\n",
      "lbfgs samples:10^7 time:17.96\n",
      "lbfgs samples:10^8 time:30.97\n",
      "newton samples:10^3 time:6.26\n",
      "newton samples:10^4 time:5.68\n",
      "newton samples:10^5 time:13.82\n",
      "newton samples:10^6 time:14.74\n",
      "newton samples:10^7 time:18.00\n",
      "newton samples:10^8 time:39.84\n",
      "proximal_grad samples:10^3 time:10.28\n",
      "proximal_grad samples:10^4 time:12.27\n",
      "proximal_grad samples:10^5 time:25.02\n",
      "proximal_grad samples:10^6 time:42.55\n",
      "proximal_grad samples:10^7 time:58.85\n",
      "proximal_grad samples:10^8 time:86.46\n",
      "gradient_descent samples:10^3 time:8.81\n",
      "gradient_descent samples:10^4 time:9.10\n",
      "gradient_descent samples:10^5 time:22.33\n",
      "gradient_descent samples:10^6 time:32.04\n",
      "gradient_descent samples:10^7 time:34.54\n"
     ]
    }
   ],
   "source": [
    "%%time\n",
    "solvers = ['admm', 'lbfgs', 'newton', 'proximal_grad', 'gradient_descent']\n",
    "numpy_time = {}\n",
    "for s in solvers:\n",
    "    numpy_time[s] = get_run_time(s,3,8,data_type='numpy')"
   ]
  },
  {
   "cell_type": "code",
   "execution_count": null,
   "metadata": {},
   "outputs": [],
   "source": [
    "import matplotlib.pyplot as plt\n",
    "\n",
    "fig, axs = plt.subplots(1,5, figsize=(20, 5),sharex=True,sharey=True)\n",
    "solvers = ['admm', 'lbfgs', 'newton', 'proximal_grad', 'gradient_descent']\n",
    "speedup = [numpy_time[s][-1]/cupy_time[s][-1] for s in solvers]\n",
    "nsamples = [10**i for i in range(3,9)]\n",
    "axs[0].set_ylabel(\"Time:seconds\",fontsize=16)\n",
    "plt.suptitle(\"dask-glm DGX-1 8xGPU vs 40-core CPU\", fontsize=20)\n",
    "\n",
    "for c,s in enumerate(solvers):\n",
    "    axs[c].plot(nsamples,cupy_time[s],color='g',label='GPU')\n",
    "    axs[c].plot(nsamples,numpy_time[s],color='b',label='CPU')\n",
    "    axs[c].set_xscale(\"log\")\n",
    "    axs[c].set_yscale(\"log\")\n",
    "    axs[c].grid()\n",
    "    axs[c].set_title('%s speedup %.1f'%(s, speedup[c]),fontsize=16)\n",
    "    axs[c].set_xlabel(\"number of samples\",)\n",
    "    axs[c].legend(fontsize=14)\n",
    "\n",
    "#plt.savefig(\"dask_glm_cupy_vs_numpy.pdf\",format='pdf',quality=95)"
   ]
  },
  {
   "cell_type": "markdown",
   "metadata": {},
   "source": [
    "### Conclusion"
   ]
  },
  {
   "cell_type": "markdown",
   "metadata": {},
   "source": [
    "This notebook shows how `dask-cudf` works with `dask-glm` as the downstream classifiers. The key takeaway is to convert `dask cudf dataframes` to `dask arrays with cupy chunks`. A decent speedup is achieved with minimal code changes."
   ]
  }
 ],
 "metadata": {
  "kernelspec": {
   "display_name": "Python 3",
   "language": "python",
   "name": "python3"
  },
  "language_info": {
   "codemirror_mode": {
    "name": "ipython",
    "version": 3
   },
   "file_extension": ".py",
   "mimetype": "text/x-python",
   "name": "python",
   "nbconvert_exporter": "python",
   "pygments_lexer": "ipython3",
   "version": "3.7.8"
  }
 },
 "nbformat": 4,
 "nbformat_minor": 4
}
