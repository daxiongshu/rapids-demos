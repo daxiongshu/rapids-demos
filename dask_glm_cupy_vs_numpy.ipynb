{
 "cells": [
  {
   "cell_type": "markdown",
   "metadata": {},
   "source": [
    "### This notebook requires the modified version of dask-glm with the [PR #89](https://github.com/dask/dask-glm/pull/89)\n",
    "\n",
    "```\n",
    "0. pip install git+https://github.com/dask/dask\n",
    "1. git clone https://github.com/daxiongshu/dask-glm\n",
    "2. cd dask-glm\n",
    "3. git checkout allow_lbfgs_with_cupy\n",
    "4. pip install -e .\n",
    "```"
   ]
  },
  {
   "cell_type": "code",
   "execution_count": null,
   "metadata": {},
   "outputs": [],
   "source": [
    "import os\n",
    "GPU_id = '0,1,2,3'\n",
    "os.environ['CUDA_VISIBLE_DEVICES'] = GPU_id\n",
    "#os.environ[\"CUPY_EXPERIMENTAL_SLICE_COPY\"] = \"1\"\n",
    "num_gpus = len(GPU_id.split(','))"
   ]
  },
  {
   "cell_type": "code",
   "execution_count": 2,
   "metadata": {},
   "outputs": [
    {
     "name": "stdout",
     "output_type": "stream",
     "text": [
      "cudf 0.16.0\n",
      "dask_cudf 0.16.0\n",
      "dask 2.30.0+46.ge4bdfcf5\n",
      "cupy 8.0.0\n"
     ]
    }
   ],
   "source": [
    "import warnings\n",
    "warnings.filterwarnings(\"ignore\")\n",
    "\n",
    "from pathlib import Path\n",
    "Path.ls = lambda x: list(x.iterdir())\n",
    "\n",
    "import time\n",
    "from tqdm import tqdm\n",
    "import numpy as np\n",
    "\n",
    "import cudf as gd\n",
    "import cupy as cp\n",
    "import subprocess\n",
    "\n",
    "import dask\n",
    "import dask_cudf\n",
    "import dask.array as da\n",
    "from dask import delayed,compute,persist\n",
    "\n",
    "from dask_glm.estimators import LogisticRegression\n",
    "from dask_glm.datasets import make_classification as make_classification\n",
    "from dask_glm.datasets import make_regression\n",
    "import dask_glm.algorithms\n",
    "\n",
    "from dask_glm.families import Logistic\n",
    "from dask_glm.regularizers import Regularizer\n",
    "\n",
    "\n",
    "from dask.distributed import Client, wait\n",
    "from dask_cuda import LocalCUDACluster\n",
    "\n",
    "\n",
    "print('cudf',gd.__version__)\n",
    "print('dask_cudf',dask_cudf.__version__)\n",
    "print('dask',dask.__version__)\n",
    "print('cupy',cp.__version__)"
   ]
  },
  {
   "cell_type": "code",
   "execution_count": 3,
   "metadata": {},
   "outputs": [
    {
     "data": {
      "text/html": [
       "<table style=\"border: 2px solid white;\">\n",
       "<tr>\n",
       "<td style=\"vertical-align: top; border: 0px solid white\">\n",
       "<h3 style=\"text-align: left;\">Client</h3>\n",
       "<ul style=\"text-align: left; list-style: none; margin: 0; padding: 0;\">\n",
       "  <li><b>Scheduler: </b>tcp://10.33.227.161:45923</li>\n",
       "  <li><b>Dashboard: </b><a href='http://10.33.227.161:8787/status' target='_blank'>http://10.33.227.161:8787/status</a></li>\n",
       "</ul>\n",
       "</td>\n",
       "<td style=\"vertical-align: top; border: 0px solid white\">\n",
       "<h3 style=\"text-align: left;\">Cluster</h3>\n",
       "<ul style=\"text-align: left; list-style:none; margin: 0; padding: 0;\">\n",
       "  <li><b>Workers: </b>4</li>\n",
       "  <li><b>Cores: </b>4</li>\n",
       "  <li><b>Memory: </b>1.08 TB</li>\n",
       "</ul>\n",
       "</td>\n",
       "</tr>\n",
       "</table>"
      ],
      "text/plain": [
       "<Client: 'tcp://10.33.227.161:45923' processes=4 threads=4, memory=1.08 TB>"
      ]
     },
     "execution_count": 3,
     "metadata": {},
     "output_type": "execute_result"
    }
   ],
   "source": [
    "cmd = \"hostname --all-ip-addresses\"\n",
    "process = subprocess.Popen(cmd.split(), stdout=subprocess.PIPE)\n",
    "output, error = process.communicate()\n",
    "IPADDR = str(output.decode()).split()[0]\n",
    "\n",
    "cluster = LocalCUDACluster(ip=IPADDR)\n",
    "client = Client(cluster)\n",
    "client"
   ]
  },
  {
   "cell_type": "markdown",
   "metadata": {},
   "source": [
    "### helper functions"
   ]
  },
  {
   "cell_type": "code",
   "execution_count": 4,
   "metadata": {},
   "outputs": [],
   "source": [
    "def to_cupy(X, y):\n",
    "    X = X.map_blocks(lambda x: cp.asarray(x),\n",
    "                         dtype=X.dtype, meta=cp.asarray(X._meta))\n",
    "    y = y.map_blocks(lambda x: cp.asarray(x),\n",
    "                     dtype=y.dtype, meta=cp.asarray(y._meta))\n",
    "    return X,y"
   ]
  },
  {
   "cell_type": "markdown",
   "metadata": {},
   "source": [
    "### Dask GLM with cupy based dask array toy data"
   ]
  },
  {
   "cell_type": "code",
   "execution_count": 5,
   "metadata": {},
   "outputs": [],
   "source": [
    "N = 200000\n",
    "p = 100\n",
    "chunks = 4\n",
    "dx, dy = make_classification(n_samples=N, n_features=p, n_informative=10, chunksize=N//chunks)\n",
    "dx, dy = to_cupy(dx, dy)"
   ]
  },
  {
   "cell_type": "code",
   "execution_count": 6,
   "metadata": {},
   "outputs": [
    {
     "name": "stdout",
     "output_type": "stream",
     "text": [
      "(200000, 100) (200000,)\n",
      "<class 'dask.array.core.Array'> <class 'dask.array.core.Array'>\n"
     ]
    }
   ],
   "source": [
    "print(dx.shape,dy.shape)\n",
    "print(type(dx),type(dy))"
   ]
  },
  {
   "cell_type": "code",
   "execution_count": 7,
   "metadata": {},
   "outputs": [
    {
     "data": {
      "text/html": [
       "<table>\n",
       "<tr>\n",
       "<td>\n",
       "<table>\n",
       "  <thead>\n",
       "    <tr><td> </td><th> Array </th><th> Chunk </th></tr>\n",
       "  </thead>\n",
       "  <tbody>\n",
       "    <tr><th> Bytes </th><td> 160.00 MB </td> <td> 40.00 MB </td></tr>\n",
       "    <tr><th> Shape </th><td> (200000, 100) </td> <td> (50000, 100) </td></tr>\n",
       "    <tr><th> Count </th><td> 4 Tasks </td><td> 4 Chunks </td></tr>\n",
       "    <tr><th> Type </th><td> float64 </td><td> cupy.ndarray </td></tr>\n",
       "  </tbody>\n",
       "</table>\n",
       "</td>\n",
       "<td>\n",
       "<svg width=\"75\" height=\"170\" style=\"stroke:rgb(0,0,0);stroke-width:1\" >\n",
       "\n",
       "  <!-- Horizontal lines -->\n",
       "  <line x1=\"0\" y1=\"0\" x2=\"25\" y2=\"0\" style=\"stroke-width:2\" />\n",
       "  <line x1=\"0\" y1=\"30\" x2=\"25\" y2=\"30\" />\n",
       "  <line x1=\"0\" y1=\"60\" x2=\"25\" y2=\"60\" />\n",
       "  <line x1=\"0\" y1=\"90\" x2=\"25\" y2=\"90\" />\n",
       "  <line x1=\"0\" y1=\"120\" x2=\"25\" y2=\"120\" style=\"stroke-width:2\" />\n",
       "\n",
       "  <!-- Vertical lines -->\n",
       "  <line x1=\"0\" y1=\"0\" x2=\"0\" y2=\"120\" style=\"stroke-width:2\" />\n",
       "  <line x1=\"25\" y1=\"0\" x2=\"25\" y2=\"120\" style=\"stroke-width:2\" />\n",
       "\n",
       "  <!-- Colored Rectangle -->\n",
       "  <polygon points=\"0.0,0.0 25.41261651458249,0.0 25.41261651458249,120.0 0.0,120.0\" style=\"fill:#ECB172A0;stroke-width:0\"/>\n",
       "\n",
       "  <!-- Text -->\n",
       "  <text x=\"12.706308\" y=\"140.000000\" font-size=\"1.0rem\" font-weight=\"100\" text-anchor=\"middle\" >100</text>\n",
       "  <text x=\"45.412617\" y=\"60.000000\" font-size=\"1.0rem\" font-weight=\"100\" text-anchor=\"middle\" transform=\"rotate(-90,45.412617,60.000000)\">200000</text>\n",
       "</svg>\n",
       "</td>\n",
       "</tr>\n",
       "</table>"
      ],
      "text/plain": [
       "dask.array<lambda, shape=(200000, 100), dtype=float64, chunksize=(50000, 100), chunktype=cupy.ndarray>"
      ]
     },
     "execution_count": 7,
     "metadata": {},
     "output_type": "execute_result"
    }
   ],
   "source": [
    "dx, dy = persist(dx, dy)\n",
    "dx.compute_chunk_sizes()"
   ]
  },
  {
   "cell_type": "code",
   "execution_count": 8,
   "metadata": {},
   "outputs": [
    {
     "name": "stdout",
     "output_type": "stream",
     "text": [
      "accuracy 0.79057\n",
      "CPU times: user 369 ms, sys: 68 ms, total: 437 ms\n",
      "Wall time: 1.27 s\n"
     ]
    }
   ],
   "source": [
    "%%time\n",
    "lr = LogisticRegression(solver='admm', max_iter=5)\n",
    "lr.fit(dx,dy)\n",
    "yp = lr.predict(dx)\n",
    "print(\"accuracy\",da.mean(yp==dy).compute())"
   ]
  },
  {
   "cell_type": "code",
   "execution_count": 9,
   "metadata": {},
   "outputs": [
    {
     "name": "stdout",
     "output_type": "stream",
     "text": [
      "admm accuracy 0.79057\n",
      "lbfgs accuracy 0.790785\n",
      "newton accuracy 0.79045\n",
      "proximal_grad accuracy 0.78905\n",
      "gradient_descent accuracy 0.790505\n",
      "CPU times: user 4.68 s, sys: 438 ms, total: 5.12 s\n",
      "Wall time: 6.91 s\n"
     ]
    }
   ],
   "source": [
    "%%time\n",
    "solvers = ['admm', 'lbfgs', 'newton', 'proximal_grad', 'gradient_descent']\n",
    "for s in solvers:\n",
    "    lr = LogisticRegression(solver=s, max_iter=5)\n",
    "    lr.fit(dx,dy)\n",
    "    yp = lr.predict(dx)\n",
    "    print(s,\"accuracy\",da.mean(yp==dy).compute())"
   ]
  },
  {
   "cell_type": "markdown",
   "metadata": {},
   "source": [
    "### Speedup Test"
   ]
  },
  {
   "cell_type": "code",
   "execution_count": 10,
   "metadata": {},
   "outputs": [],
   "source": [
    "def get_run_time(solver,min_samples,max_samples,data_type='cupy'):\n",
    "    times = []\n",
    "    for n in range(min_samples,max_samples+1):\n",
    "        n_samples=10**n\n",
    "        n_features = 20\n",
    "        chunks = 4\n",
    "        dx, dy = make_classification(n_samples=n_samples, n_features=n_features, n_informative=10, chunksize=n_samples//chunks)\n",
    "        if data_type=='cupy':\n",
    "            dx, dy = to_cupy(dx, dy)\n",
    "        dx, dy = persist(dx, dy)\n",
    "        wait(dx)\n",
    "        wait(dy)\n",
    "        start = time.time()\n",
    "        lr = LogisticRegression(solver=solver, max_iter=2)\n",
    "        lr.fit(dx,dy)\n",
    "        duration = time.time()-start\n",
    "        del dx,dy\n",
    "        del lr\n",
    "        times.append(duration)\n",
    "        print('%s samples:10^%d time:%.2f'%(solver,n,duration))\n",
    "    return times"
   ]
  },
  {
   "cell_type": "code",
   "execution_count": 11,
   "metadata": {},
   "outputs": [
    {
     "name": "stdout",
     "output_type": "stream",
     "text": [
      "admm samples:10^3 time:0.22\n",
      "admm samples:10^4 time:0.21\n",
      "admm samples:10^5 time:0.21\n",
      "admm samples:10^6 time:0.22\n",
      "admm samples:10^7 time:0.60\n",
      "admm samples:10^8 time:6.16\n",
      "lbfgs samples:10^3 time:0.41\n",
      "lbfgs samples:10^4 time:0.57\n",
      "lbfgs samples:10^5 time:0.44\n",
      "lbfgs samples:10^6 time:0.45\n",
      "lbfgs samples:10^7 time:0.93\n",
      "lbfgs samples:10^8 time:6.46\n",
      "newton samples:10^3 time:0.36\n",
      "newton samples:10^4 time:0.40\n",
      "newton samples:10^5 time:0.38\n",
      "newton samples:10^6 time:0.54\n",
      "newton samples:10^7 time:0.71\n",
      "newton samples:10^8 time:6.06\n",
      "proximal_grad samples:10^3 time:0.75\n",
      "proximal_grad samples:10^4 time:0.90\n",
      "proximal_grad samples:10^5 time:1.04\n",
      "proximal_grad samples:10^6 time:1.19\n",
      "proximal_grad samples:10^7 time:2.46\n",
      "proximal_grad samples:10^8 time:17.61\n",
      "gradient_descent samples:10^3 time:0.77\n",
      "gradient_descent samples:10^4 time:0.85\n",
      "gradient_descent samples:10^5 time:1.12\n",
      "gradient_descent samples:10^6 time:0.95\n",
      "gradient_descent samples:10^7 time:1.89\n",
      "gradient_descent samples:10^8 time:15.21\n",
      "CPU times: user 20.8 s, sys: 2.19 s, total: 23 s\n",
      "Wall time: 3min 35s\n"
     ]
    }
   ],
   "source": [
    "%%time\n",
    "solvers = ['admm', 'lbfgs', 'newton', 'proximal_grad', 'gradient_descent']\n",
    "cupy_time = {}\n",
    "for s in solvers:\n",
    "    cupy_time[s] = get_run_time(s,3,8,data_type='cupy')"
   ]
  },
  {
   "cell_type": "code",
   "execution_count": 12,
   "metadata": {},
   "outputs": [
    {
     "name": "stdout",
     "output_type": "stream",
     "text": [
      "admm samples:10^3 time:0.89\n",
      "admm samples:10^4 time:0.53\n",
      "admm samples:10^5 time:0.75\n",
      "admm samples:10^6 time:4.73\n",
      "admm samples:10^7 time:21.33\n",
      "admm samples:10^8 time:112.82\n",
      "lbfgs samples:10^3 time:0.41\n",
      "lbfgs samples:10^4 time:0.96\n",
      "lbfgs samples:10^5 time:1.24\n",
      "lbfgs samples:10^6 time:1.60\n",
      "lbfgs samples:10^7 time:4.84\n",
      "lbfgs samples:10^8 time:35.09\n",
      "newton samples:10^3 time:0.34\n",
      "newton samples:10^4 time:0.91\n",
      "newton samples:10^5 time:0.99\n",
      "newton samples:10^6 time:1.49\n",
      "newton samples:10^7 time:6.84\n",
      "newton samples:10^8 time:55.02\n",
      "proximal_grad samples:10^3 time:0.64\n",
      "proximal_grad samples:10^4 time:1.74\n",
      "proximal_grad samples:10^5 time:2.95\n",
      "proximal_grad samples:10^6 time:3.63\n",
      "proximal_grad samples:10^7 time:12.57\n",
      "proximal_grad samples:10^8 time:96.43\n",
      "gradient_descent samples:10^3 time:1.35\n",
      "gradient_descent samples:10^4 time:1.59\n",
      "gradient_descent samples:10^5 time:2.77\n",
      "gradient_descent samples:10^6 time:3.11\n",
      "gradient_descent samples:10^7 time:8.30\n",
      "gradient_descent samples:10^8 time:50.39\n",
      "CPU times: user 1min 38s, sys: 16.3 s, total: 1min 54s\n",
      "Wall time: 9min 45s\n"
     ]
    }
   ],
   "source": [
    "%%time\n",
    "\n",
    "client = Client()\n",
    "solvers = ['admm', 'lbfgs', 'newton', 'proximal_grad', 'gradient_descent']\n",
    "numpy_time = {}\n",
    "for s in solvers:\n",
    "    numpy_time[s] = get_run_time(s,3,8,data_type='numpy')"
   ]
  },
  {
   "cell_type": "code",
   "execution_count": 14,
   "metadata": {},
   "outputs": [],
   "source": [
    "import matplotlib.pyplot as plt"
   ]
  },
  {
   "cell_type": "code",
   "execution_count": 15,
   "metadata": {},
   "outputs": [
    {
     "data": {
      "image/png": "[encoded data removed]",
      "text/plain": [
       "<Figure size 1440x288 with 5 Axes>"
      ]
     },
     "metadata": {
      "needs_background": "light"
     },
     "output_type": "display_data"
    }
   ],
   "source": [
    "fig, axs = plt.subplots(1,5, figsize=(20, 4),sharex=True,sharey=True)\n",
    "solvers = ['admm', 'lbfgs', 'newton', 'proximal_grad', 'gradient_descent']\n",
    "nsamples = [10**i for i in range(3,9)]\n",
    "axs[0].set_ylabel(\"Time:seconds\",fontsize=16)\n",
    "for c,s in enumerate(solvers):\n",
    "    axs[c].plot(nsamples,cupy_time[s],color='g',label='cupy')\n",
    "    axs[c].plot(nsamples,numpy_time[s],color='b',label='numpy')\n",
    "    axs[c].set_xscale(\"log\")\n",
    "    axs[c].set_yscale(\"log\")\n",
    "    axs[c].grid()\n",
    "    axs[c].set_title('fitting %s'%(s),fontsize=16)\n",
    "    axs[c].set_xlabel(\"number of samples\",)\n",
    "    axs[c].legend(fontsize=14)\n",
    "plt.savefig(\"dask_glm_cupy_vs_numpy.pdf\",format='pdf',quality=95)"
   ]
  },
  {
   "cell_type": "code",
   "execution_count": 16,
   "metadata": {},
   "outputs": [
    {
     "name": "stdout",
     "output_type": "stream",
     "text": [
      "{'admm': [0.21765828132629395, 0.21206355094909668, 0.21434640884399414, 0.218580961227417, 0.5990934371948242, 6.163001775741577], 'lbfgs': [0.4115731716156006, 0.5681309700012207, 0.4402155876159668, 0.4547250270843506, 0.9348490238189697, 6.4634690284729], 'newton': [0.35703039169311523, 0.398423433303833, 0.38001060485839844, 0.544623851776123, 0.7127010822296143, 6.064377069473267], 'proximal_grad': [0.7502241134643555, 0.898841142654419, 1.0394632816314697, 1.19075345993042, 2.4594533443450928, 17.606927156448364], 'gradient_descent': [0.7738261222839355, 0.8494710922241211, 1.118093490600586, 0.9474565982818604, 1.8884577751159668, 15.209191083908081]}\n"
     ]
    }
   ],
   "source": [
    "print(cupy_time)"
   ]
  },
  {
   "cell_type": "code",
   "execution_count": 17,
   "metadata": {},
   "outputs": [
    {
     "name": "stdout",
     "output_type": "stream",
     "text": [
      "{'admm': [0.8883583545684814, 0.5346331596374512, 0.7470958232879639, 4.729389667510986, 21.334040641784668, 112.82100319862366], 'lbfgs': [0.4072704315185547, 0.9585769176483154, 1.2415602207183838, 1.6037938594818115, 4.840105295181274, 35.08968257904053], 'newton': [0.34020328521728516, 0.9122247695922852, 0.9947090148925781, 1.493607759475708, 6.841528654098511, 55.02232217788696], 'proximal_grad': [0.6367027759552002, 1.7351338863372803, 2.953031539916992, 3.631437063217163, 12.565171241760254, 96.42689514160156], 'gradient_descent': [1.3490593433380127, 1.5929501056671143, 2.7714388370513916, 3.1076557636260986, 8.304282188415527, 50.385417222976685]}\n"
     ]
    }
   ],
   "source": [
    "print(numpy_time)"
   ]
  }
 ],
 "metadata": {
  "kernelspec": {
   "display_name": "Python 3",
   "language": "python",
   "name": "python3"
  },
  "language_info": {
   "codemirror_mode": {
    "name": "ipython",
    "version": 3
   },
   "file_extension": ".py",
   "mimetype": "text/x-python",
   "name": "python",
   "nbconvert_exporter": "python",
   "pygments_lexer": "ipython3",
   "version": "3.7.8"
  }
 },
 "nbformat": 4,
 "nbformat_minor": 4
}
