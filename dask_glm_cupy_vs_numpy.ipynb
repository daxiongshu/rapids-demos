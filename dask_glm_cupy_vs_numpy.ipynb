{
 "cells": [
  {
   "cell_type": "markdown",
   "metadata": {},
   "source": [
    "### This notebook requires the modified version of dask-glm with the [PR #89](https://github.com/dask/dask-glm/pull/89)\n",
    "\n",
    "```\n",
    "0. pip install git+https://github.com/dask/dask\n",
    "1. git clone https://github.com/daxiongshu/dask-glm\n",
    "2. cd dask-glm\n",
    "3. git checkout allow_lbfgs_with_cupy\n",
    "4. pip install -e .\n",
    "```"
   ]
  },
  {
   "cell_type": "code",
   "execution_count": null,
   "metadata": {},
   "outputs": [],
   "source": [
    "import os\n",
    "GPU_id = '0,1,2,3,4,5,6,7'\n",
    "os.environ['CUDA_VISIBLE_DEVICES'] = GPU_id\n",
    "os.environ[\"CUPY_EXPERIMENTAL_SLICE_COPY\"] = \"1\"\n",
    "num_gpus = len(GPU_id.split(','))"
   ]
  },
  {
   "cell_type": "code",
   "execution_count": 2,
   "metadata": {},
   "outputs": [
    {
     "name": "stdout",
     "output_type": "stream",
     "text": [
      "cudf 0.16.0\n",
      "dask_cudf 0.16.0\n",
      "dask 2.30.0+46.ge4bdfcf5\n",
      "cupy 8.0.0\n"
     ]
    }
   ],
   "source": [
    "import warnings\n",
    "warnings.filterwarnings(\"ignore\")\n",
    "\n",
    "from pathlib import Path\n",
    "Path.ls = lambda x: list(x.iterdir())\n",
    "\n",
    "import time\n",
    "from tqdm import tqdm\n",
    "import numpy as np\n",
    "\n",
    "import cudf as gd\n",
    "import cupy as cp\n",
    "import subprocess\n",
    "\n",
    "import dask\n",
    "import dask_cudf\n",
    "import dask.array as da\n",
    "from dask import delayed,compute,persist\n",
    "\n",
    "from dask_glm.estimators import LogisticRegression\n",
    "from dask_glm.datasets import make_classification as make_classification\n",
    "from dask_glm.datasets import make_regression\n",
    "import dask_glm.algorithms\n",
    "\n",
    "from dask_glm.families import Logistic\n",
    "from dask_glm.regularizers import Regularizer\n",
    "\n",
    "\n",
    "from dask.distributed import Client, wait, LocalCluster\n",
    "from dask_cuda import LocalCUDACluster\n",
    "\n",
    "\n",
    "print('cudf',gd.__version__)\n",
    "print('dask_cudf',dask_cudf.__version__)\n",
    "print('dask',dask.__version__)\n",
    "print('cupy',cp.__version__)"
   ]
  },
  {
   "cell_type": "code",
   "execution_count": 3,
   "metadata": {},
   "outputs": [
    {
     "data": {
      "text/html": [
       "<table style=\"border: 2px solid white;\">\n",
       "<tr>\n",
       "<td style=\"vertical-align: top; border: 0px solid white\">\n",
       "<h3 style=\"text-align: left;\">Client</h3>\n",
       "<ul style=\"text-align: left; list-style: none; margin: 0; padding: 0;\">\n",
       "  <li><b>Scheduler: </b>ucx://10.33.227.161:53957</li>\n",
       "  <li><b>Dashboard: </b><a href='http://10.33.227.161:8787/status' target='_blank'>http://10.33.227.161:8787/status</a></li>\n",
       "</ul>\n",
       "</td>\n",
       "<td style=\"vertical-align: top; border: 0px solid white\">\n",
       "<h3 style=\"text-align: left;\">Cluster</h3>\n",
       "<ul style=\"text-align: left; list-style:none; margin: 0; padding: 0;\">\n",
       "  <li><b>Workers: </b>8</li>\n",
       "  <li><b>Cores: </b>8</li>\n",
       "  <li><b>Memory: </b>1.08 TB</li>\n",
       "</ul>\n",
       "</td>\n",
       "</tr>\n",
       "</table>"
      ],
      "text/plain": [
       "<Client: 'ucx://10.33.227.161:53957' processes=8 threads=8, memory=1.08 TB>"
      ]
     },
     "execution_count": 3,
     "metadata": {},
     "output_type": "execute_result"
    }
   ],
   "source": [
    "cmd = \"hostname --all-ip-addresses\"\n",
    "process = subprocess.Popen(cmd.split(), stdout=subprocess.PIPE)\n",
    "output, error = process.communicate()\n",
    "IPADDR = str(output.decode()).split()[0]\n",
    "\n",
    "cluster = LocalCUDACluster(ip=IPADDR,protocol=\"ucx\", \n",
    "                           #rmm_pool_size=\"31GB\",\n",
    "                           enable_tcp_over_ucx=True, enable_nvlink=True)\n",
    "client = Client(cluster)\n",
    "client"
   ]
  },
  {
   "cell_type": "markdown",
   "metadata": {},
   "source": [
    "### helper functions"
   ]
  },
  {
   "cell_type": "code",
   "execution_count": 4,
   "metadata": {},
   "outputs": [],
   "source": [
    "def to_cupy(X, y):\n",
    "    X = X.map_blocks(lambda x: cp.asarray(x),\n",
    "                         dtype=X.dtype, meta=cp.asarray(X._meta))\n",
    "    y = y.map_blocks(lambda x: cp.asarray(x),\n",
    "                     dtype=y.dtype, meta=cp.asarray(y._meta))\n",
    "    return X,y"
   ]
  },
  {
   "cell_type": "markdown",
   "metadata": {},
   "source": [
    "### Dask GLM with cupy accuracy check"
   ]
  },
  {
   "cell_type": "code",
   "execution_count": 5,
   "metadata": {},
   "outputs": [],
   "source": [
    "N = 200000\n",
    "p = 100\n",
    "chunks = num_gpus\n",
    "dx, dy = make_classification(n_samples=N, n_features=p, n_informative=10, chunksize=N//chunks)\n",
    "dx, dy = to_cupy(dx, dy)"
   ]
  },
  {
   "cell_type": "code",
   "execution_count": 6,
   "metadata": {},
   "outputs": [
    {
     "name": "stdout",
     "output_type": "stream",
     "text": [
      "(200000, 100) (200000,)\n",
      "<class 'dask.array.core.Array'> <class 'dask.array.core.Array'>\n",
      "float64 bool\n"
     ]
    }
   ],
   "source": [
    "print(dx.shape,dy.shape)\n",
    "print(type(dx),type(dy))\n",
    "print(dx.dtype, dy.dtype)"
   ]
  },
  {
   "cell_type": "code",
   "execution_count": 7,
   "metadata": {},
   "outputs": [
    {
     "data": {
      "text/html": [
       "<table>\n",
       "<tr>\n",
       "<td>\n",
       "<table>\n",
       "  <thead>\n",
       "    <tr><td> </td><th> Array </th><th> Chunk </th></tr>\n",
       "  </thead>\n",
       "  <tbody>\n",
       "    <tr><th> Bytes </th><td> 160.00 MB </td> <td> 20.00 MB </td></tr>\n",
       "    <tr><th> Shape </th><td> (200000, 100) </td> <td> (25000, 100) </td></tr>\n",
       "    <tr><th> Count </th><td> 8 Tasks </td><td> 8 Chunks </td></tr>\n",
       "    <tr><th> Type </th><td> float64 </td><td> cupy.ndarray </td></tr>\n",
       "  </tbody>\n",
       "</table>\n",
       "</td>\n",
       "<td>\n",
       "<svg width=\"75\" height=\"170\" style=\"stroke:rgb(0,0,0);stroke-width:1\" >\n",
       "\n",
       "  <!-- Horizontal lines -->\n",
       "  <line x1=\"0\" y1=\"0\" x2=\"25\" y2=\"0\" style=\"stroke-width:2\" />\n",
       "  <line x1=\"0\" y1=\"15\" x2=\"25\" y2=\"15\" />\n",
       "  <line x1=\"0\" y1=\"30\" x2=\"25\" y2=\"30\" />\n",
       "  <line x1=\"0\" y1=\"45\" x2=\"25\" y2=\"45\" />\n",
       "  <line x1=\"0\" y1=\"60\" x2=\"25\" y2=\"60\" />\n",
       "  <line x1=\"0\" y1=\"75\" x2=\"25\" y2=\"75\" />\n",
       "  <line x1=\"0\" y1=\"90\" x2=\"25\" y2=\"90\" />\n",
       "  <line x1=\"0\" y1=\"105\" x2=\"25\" y2=\"105\" />\n",
       "  <line x1=\"0\" y1=\"120\" x2=\"25\" y2=\"120\" style=\"stroke-width:2\" />\n",
       "\n",
       "  <!-- Vertical lines -->\n",
       "  <line x1=\"0\" y1=\"0\" x2=\"0\" y2=\"120\" style=\"stroke-width:2\" />\n",
       "  <line x1=\"25\" y1=\"0\" x2=\"25\" y2=\"120\" style=\"stroke-width:2\" />\n",
       "\n",
       "  <!-- Colored Rectangle -->\n",
       "  <polygon points=\"0.0,0.0 25.41261651458249,0.0 25.41261651458249,120.0 0.0,120.0\" style=\"fill:#ECB172A0;stroke-width:0\"/>\n",
       "\n",
       "  <!-- Text -->\n",
       "  <text x=\"12.706308\" y=\"140.000000\" font-size=\"1.0rem\" font-weight=\"100\" text-anchor=\"middle\" >100</text>\n",
       "  <text x=\"45.412617\" y=\"60.000000\" font-size=\"1.0rem\" font-weight=\"100\" text-anchor=\"middle\" transform=\"rotate(-90,45.412617,60.000000)\">200000</text>\n",
       "</svg>\n",
       "</td>\n",
       "</tr>\n",
       "</table>"
      ],
      "text/plain": [
       "dask.array<lambda, shape=(200000, 100), dtype=float64, chunksize=(25000, 100), chunktype=cupy.ndarray>"
      ]
     },
     "execution_count": 7,
     "metadata": {},
     "output_type": "execute_result"
    }
   ],
   "source": [
    "dx, dy = persist(dx, dy)\n",
    "dx.compute_chunk_sizes()"
   ]
  },
  {
   "cell_type": "code",
   "execution_count": 8,
   "metadata": {},
   "outputs": [
    {
     "name": "stdout",
     "output_type": "stream",
     "text": [
      "accuracy 0.746875\n",
      "CPU times: user 869 ms, sys: 158 ms, total: 1.03 s\n",
      "Wall time: 3.43 s\n"
     ]
    }
   ],
   "source": [
    "%%time\n",
    "lr = LogisticRegression(solver='admm', max_iter=5)\n",
    "lr.fit(dx,dy)\n",
    "yp = lr.predict(dx)\n",
    "print(\"accuracy\",da.mean(yp==dy).compute())"
   ]
  },
  {
   "cell_type": "code",
   "execution_count": 9,
   "metadata": {},
   "outputs": [
    {
     "name": "stdout",
     "output_type": "stream",
     "text": [
      "admm accuracy 0.746875\n",
      "lbfgs accuracy 0.747015\n",
      "newton accuracy 0.74689\n",
      "proximal_grad accuracy 0.74697\n",
      "gradient_descent accuracy 0.74697\n",
      "CPU times: user 8.86 s, sys: 909 ms, total: 9.77 s\n",
      "Wall time: 15.5 s\n"
     ]
    }
   ],
   "source": [
    "%%time\n",
    "solvers = ['admm', 'lbfgs', 'newton', 'proximal_grad', 'gradient_descent']\n",
    "for s in solvers:\n",
    "    lr = LogisticRegression(solver=s, max_iter=5)\n",
    "    lr.fit(dx,dy)\n",
    "    yp = lr.predict(dx)\n",
    "    print(s,\"accuracy\",da.mean(yp==dy).compute())"
   ]
  },
  {
   "cell_type": "markdown",
   "metadata": {},
   "source": [
    "### Speedup Test"
   ]
  },
  {
   "cell_type": "code",
   "execution_count": 10,
   "metadata": {},
   "outputs": [],
   "source": [
    "def get_run_time(solver,min_samples,max_samples,data_type='cupy'):\n",
    "    times = []\n",
    "    for n in range(min_samples,max_samples+1):\n",
    "        n_samples=10**n\n",
    "        n_features = 20\n",
    "        chunks = num_gpus if data_type=='cupy' else 80 # dgx-1 has 40 cores and 80 hyperthreads\n",
    "        \n",
    "        dx, dy = make_classification(n_samples=n_samples, n_features=n_features, n_informative=10, chunksize=n_samples//chunks)\n",
    "        #dx = dx.astype('float32')\n",
    "        if data_type=='cupy':\n",
    "            dx, dy = to_cupy(dx, dy)\n",
    "        dx, dy = persist(dx, dy)\n",
    "        wait(dx)\n",
    "        wait(dy)\n",
    "        start = time.time()\n",
    "        lr = LogisticRegression(solver=solver, max_iter=2)\n",
    "        lr.fit(dx,dy)\n",
    "        duration = time.time()-start\n",
    "        del dx,dy\n",
    "        del lr\n",
    "        times.append(duration)\n",
    "        print('%s samples:10^%d time:%.2f'%(solver,n,duration))\n",
    "    return times"
   ]
  },
  {
   "cell_type": "markdown",
   "metadata": {},
   "source": [
    "#### dask glm with cupy on GPUs"
   ]
  },
  {
   "cell_type": "code",
   "execution_count": 11,
   "metadata": {},
   "outputs": [
    {
     "name": "stdout",
     "output_type": "stream",
     "text": [
      "admm samples:10^3 time:0.34\n",
      "admm samples:10^4 time:0.52\n",
      "admm samples:10^5 time:0.32\n",
      "admm samples:10^6 time:1.04\n",
      "admm samples:10^7 time:0.50\n",
      "admm samples:10^8 time:2.29\n",
      "lbfgs samples:10^3 time:0.69\n",
      "lbfgs samples:10^4 time:0.85\n",
      "lbfgs samples:10^5 time:0.66\n",
      "lbfgs samples:10^6 time:0.70\n",
      "lbfgs samples:10^7 time:0.88\n",
      "lbfgs samples:10^8 time:3.35\n",
      "newton samples:10^3 time:0.81\n",
      "newton samples:10^4 time:0.66\n",
      "newton samples:10^5 time:0.97\n",
      "newton samples:10^6 time:0.75\n",
      "newton samples:10^7 time:0.94\n",
      "newton samples:10^8 time:2.44\n",
      "proximal_grad samples:10^3 time:1.27\n",
      "proximal_grad samples:10^4 time:1.72\n",
      "proximal_grad samples:10^5 time:1.74\n",
      "proximal_grad samples:10^6 time:2.14\n",
      "proximal_grad samples:10^7 time:2.71\n",
      "proximal_grad samples:10^8 time:8.19\n",
      "gradient_descent samples:10^3 time:1.22\n",
      "gradient_descent samples:10^4 time:1.37\n",
      "gradient_descent samples:10^5 time:1.58\n",
      "gradient_descent samples:10^6 time:1.83\n",
      "gradient_descent samples:10^7 time:2.51\n",
      "gradient_descent samples:10^8 time:6.10\n",
      "CPU times: user 37.9 s, sys: 3.39 s, total: 41.3 s\n",
      "Wall time: 2min 17s\n"
     ]
    }
   ],
   "source": [
    "%%time\n",
    "solvers = ['admm', 'lbfgs', 'newton', 'proximal_grad', 'gradient_descent']\n",
    "cupy_time = {}\n",
    "for s in solvers:\n",
    "    cupy_time[s] = get_run_time(s,3,8,data_type='cupy')"
   ]
  },
  {
   "cell_type": "markdown",
   "metadata": {},
   "source": [
    "#### dask glm cpu baseline"
   ]
  },
  {
   "cell_type": "code",
   "execution_count": 12,
   "metadata": {},
   "outputs": [
    {
     "data": {
      "text/html": [
       "<table style=\"border: 2px solid white;\">\n",
       "<tr>\n",
       "<td style=\"vertical-align: top; border: 0px solid white\">\n",
       "<h3 style=\"text-align: left;\">Client</h3>\n",
       "<ul style=\"text-align: left; list-style: none; margin: 0; padding: 0;\">\n",
       "  <li><b>Scheduler: </b>tcp://127.0.0.1:37941</li>\n",
       "  <li><b>Dashboard: </b><a href='http://127.0.0.1:32903/status' target='_blank'>http://127.0.0.1:32903/status</a></li>\n",
       "</ul>\n",
       "</td>\n",
       "<td style=\"vertical-align: top; border: 0px solid white\">\n",
       "<h3 style=\"text-align: left;\">Cluster</h3>\n",
       "<ul style=\"text-align: left; list-style:none; margin: 0; padding: 0;\">\n",
       "  <li><b>Workers: </b>10</li>\n",
       "  <li><b>Cores: </b>80</li>\n",
       "  <li><b>Memory: </b>1.08 TB</li>\n",
       "</ul>\n",
       "</td>\n",
       "</tr>\n",
       "</table>"
      ],
      "text/plain": [
       "<Client: 'tcp://127.0.0.1:37941' processes=10 threads=80, memory=1.08 TB>"
      ]
     },
     "execution_count": 12,
     "metadata": {},
     "output_type": "execute_result"
    }
   ],
   "source": [
    "# dask glm cpu baseline\n",
    "cluster = LocalCluster()\n",
    "client = Client(cluster)\n",
    "client"
   ]
  },
  {
   "cell_type": "code",
   "execution_count": 13,
   "metadata": {},
   "outputs": [
    {
     "name": "stdout",
     "output_type": "stream",
     "text": [
      "admm samples:10^3 time:1.53\n",
      "admm samples:10^4 time:1.32\n",
      "admm samples:10^5 time:3.49\n",
      "admm samples:10^6 time:6.02\n",
      "admm samples:10^7 time:15.93\n",
      "admm samples:10^8 time:78.71\n",
      "lbfgs samples:10^3 time:2.26\n",
      "lbfgs samples:10^4 time:2.53\n",
      "lbfgs samples:10^5 time:4.86\n",
      "lbfgs samples:10^6 time:7.97\n",
      "lbfgs samples:10^7 time:9.14\n",
      "lbfgs samples:10^8 time:24.47\n",
      "newton samples:10^3 time:3.03\n",
      "newton samples:10^4 time:2.73\n",
      "newton samples:10^5 time:8.10\n",
      "newton samples:10^6 time:7.28\n",
      "newton samples:10^7 time:10.26\n",
      "newton samples:10^8 time:38.09\n",
      "proximal_grad samples:10^3 time:9.49\n",
      "proximal_grad samples:10^4 time:6.62\n",
      "proximal_grad samples:10^5 time:13.40\n",
      "proximal_grad samples:10^6 time:26.64\n",
      "proximal_grad samples:10^7 time:32.78\n",
      "proximal_grad samples:10^8 time:72.09\n",
      "gradient_descent samples:10^3 time:6.43\n",
      "gradient_descent samples:10^4 time:4.01\n",
      "gradient_descent samples:10^5 time:7.52\n",
      "gradient_descent samples:10^6 time:12.98\n",
      "gradient_descent samples:10^7 time:21.64\n",
      "gradient_descent samples:10^8 time:44.04\n",
      "CPU times: user 4min 3s, sys: 33.1 s, total: 4min 36s\n",
      "Wall time: 8min 57s\n"
     ]
    }
   ],
   "source": [
    "%%time\n",
    "solvers = ['admm', 'lbfgs', 'newton', 'proximal_grad', 'gradient_descent']\n",
    "numpy_time = {}\n",
    "for s in solvers:\n",
    "    numpy_time[s] = get_run_time(s,3,8,data_type='numpy')"
   ]
  },
  {
   "cell_type": "code",
   "execution_count": 14,
   "metadata": {},
   "outputs": [],
   "source": [
    "import matplotlib.pyplot as plt"
   ]
  },
  {
   "cell_type": "code",
   "execution_count": 15,
   "metadata": {},
   "outputs": [
    {
     "data": {
      "image/png": "[encoded data removed]",
      "text/plain": [
       "<Figure size 1440x360 with 5 Axes>"
      ]
     },
     "metadata": {
      "needs_background": "light"
     },
     "output_type": "display_data"
    }
   ],
   "source": [
    "fig, axs = plt.subplots(1,5, figsize=(20, 5),sharex=True,sharey=True)\n",
    "solvers = ['admm', 'lbfgs', 'newton', 'proximal_grad', 'gradient_descent']\n",
    "speedup = [numpy_time[s][-1]/cupy_time[s][-1] for s in solvers]\n",
    "nsamples = [10**i for i in range(3,9)]\n",
    "axs[0].set_ylabel(\"Time:seconds\",fontsize=16)\n",
    "plt.suptitle(\"dask-glm DGX-1 8xGPU vs 40-core CPU\", fontsize=20)\n",
    "\n",
    "for c,s in enumerate(solvers):\n",
    "    axs[c].plot(nsamples,cupy_time[s],color='g',label='GPU')\n",
    "    axs[c].plot(nsamples,numpy_time[s],color='b',label='CPU')\n",
    "    axs[c].set_xscale(\"log\")\n",
    "    axs[c].set_yscale(\"log\")\n",
    "    axs[c].grid()\n",
    "    axs[c].set_title('%s speedup %.1f'%(s, speedup[c]),fontsize=16)\n",
    "    axs[c].set_xlabel(\"number of samples\",)\n",
    "    axs[c].legend(fontsize=14)\n",
    "\n",
    "plt.savefig(\"dask_glm_cupy_vs_numpy.pdf\",format='pdf',quality=95)"
   ]
  },
  {
   "cell_type": "code",
   "execution_count": 16,
   "metadata": {},
   "outputs": [
    {
     "name": "stdout",
     "output_type": "stream",
     "text": [
      "{'admm': [0.33559155464172363, 0.524461030960083, 0.31807518005371094, 1.0430881977081299, 0.49884533882141113, 2.286559820175171], 'lbfgs': [0.689110279083252, 0.8542847633361816, 0.6569817066192627, 0.7015044689178467, 0.8759558200836182, 3.347743511199951], 'newton': [0.8148186206817627, 0.6568856239318848, 0.966106653213501, 0.7513766288757324, 0.9435408115386963, 2.4416980743408203], 'proximal_grad': [1.267759084701538, 1.7166051864624023, 1.740882396697998, 2.1409173011779785, 2.7149884700775146, 8.188908100128174], 'gradient_descent': [1.2183287143707275, 1.3660573959350586, 1.5796546936035156, 1.8258943557739258, 2.51454496383667, 6.101024866104126]}\n"
     ]
    }
   ],
   "source": [
    "print(cupy_time)"
   ]
  },
  {
   "cell_type": "code",
   "execution_count": 17,
   "metadata": {},
   "outputs": [
    {
     "name": "stdout",
     "output_type": "stream",
     "text": [
      "{'admm': [1.5261013507843018, 1.3206887245178223, 3.4944725036621094, 6.024350881576538, 15.929607391357422, 78.70614266395569], 'lbfgs': [2.2621474266052246, 2.531238079071045, 4.859462738037109, 7.973659038543701, 9.138251781463623, 24.47417974472046], 'newton': [3.026705503463745, 2.7327449321746826, 8.103541612625122, 7.275075435638428, 10.264176368713379, 38.08971357345581], 'proximal_grad': [9.486053466796875, 6.622894763946533, 13.397969961166382, 26.641576290130615, 32.78219223022461, 72.08710932731628], 'gradient_descent': [6.43262505531311, 4.009201765060425, 7.519303321838379, 12.976767778396606, 21.63583517074585, 44.03650212287903]}\n"
     ]
    }
   ],
   "source": [
    "print(numpy_time)"
   ]
  }
 ],
 "metadata": {
  "kernelspec": {
   "display_name": "Python 3",
   "language": "python",
   "name": "python3"
  },
  "language_info": {
   "codemirror_mode": {
    "name": "ipython",
    "version": 3
   },
   "file_extension": ".py",
   "mimetype": "text/x-python",
   "name": "python",
   "nbconvert_exporter": "python",
   "pygments_lexer": "ipython3",
   "version": "3.7.8"
  }
 },
 "nbformat": 4,
 "nbformat_minor": 4
}
